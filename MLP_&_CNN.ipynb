{
  "nbformat": 4,
  "nbformat_minor": 0,
  "metadata": {
    "colab": {
      "provenance": [],
      "mount_file_id": "1ZxKvuy-niBlgzs4LKUnG9_eJsug8uHWc",
      "authorship_tag": "ABX9TyODTiKw7DFCTL+tgC50kBN3",
      "include_colab_link": true
    },
    "kernelspec": {
      "name": "python3",
      "display_name": "Python 3"
    },
    "language_info": {
      "name": "python"
    }
  },
  "cells": [
    {
      "cell_type": "markdown",
      "metadata": {
        "id": "view-in-github",
        "colab_type": "text"
      },
      "source": [
        "<a href=\"https://colab.research.google.com/github/muymay/lectures/blob/main/MLP_%26_CNN.ipynb\" target=\"_parent\"><img src=\"https://colab.research.google.com/assets/colab-badge.svg\" alt=\"Open In Colab\"/></a>"
      ]
    },
    {
      "cell_type": "code",
      "execution_count": null,
      "metadata": {
        "id": "eNbW_xcffznJ"
      },
      "outputs": [],
      "source": [
        "# 1. import libraries\n",
        "\n",
        "# DL modeling\n",
        "import torch\n",
        "import torch.nn as nn\n",
        "import torch.nn.functional as F\n",
        "from torchvision.datasets import CIFAR10\n",
        "from torchvision.transforms import transforms, ToTensor\n",
        "from torch.utils.data import DataLoader\n",
        "\n",
        "# saving data\n",
        "import pandas as pd\n",
        "\n",
        "# timer\n",
        "import time\n",
        "\n",
        "# for data visualization\n",
        "import matplotlib.pyplot as plt\n",
        "import matplotlib_inline.backend_inline\n",
        "matplotlib_inline.backend_inline.set_matplotlib_formats('svg')\n"
      ]
    },
    {
      "cell_type": "code",
      "source": [
        "# use GPU, MAC specs is 24 GB of memory\n",
        "device = \"mps\" if torch.backends.mps.is_available() else \"cpu\"\n"
      ],
      "metadata": {
        "id": "SN6P9lRyiX9M"
      },
      "execution_count": null,
      "outputs": []
    },
    {
      "cell_type": "code",
      "source": [
        "# composes several transforms together, prepares image to be used as an input for neural network.\n",
        "transform = transforms.Compose([transforms.ToTensor()])"
      ],
      "metadata": {
        "id": "hGz7EIiQj95O"
      },
      "execution_count": null,
      "outputs": []
    },
    {
      "cell_type": "code",
      "source": [
        "# import that data\n",
        "# data loaders make it easy to efficiently feed data in batches, randomnly shuffle every epoch, and parallel loading for sped up training processes\n",
        "batch_size = 16\n",
        "train_data = CIFAR10(root=\".\", download = True, train = True, transform = ToTensor())\n",
        "train_loader = torch.utils.data.DataLoader(train_data, batch_size = batch_size, shuffle = True, num_workers = 2)\n",
        "\n",
        "valid_data = CIFAR10(root=\".\", download = True, train = False, transform = ToTensor())\n",
        "valid_loader = torch.utils.data.DataLoader(valid_data, batch_size = batch_size, shuffle = False, num_workers = 2)\n",
        "\n",
        "classes = ('beaver', 'dolphin', 'otter', 'seal', 'whale',\n",
        "           'aquarium fish', 'flatfish', 'ray', 'shark', 'trout')\n"
      ],
      "metadata": {
        "id": "7pMpEVbbf93e",
        "colab": {
          "base_uri": "https://localhost:8080/"
        },
        "outputId": "cde1b34a-7e70-4364-c8d8-79adb869b969"
      },
      "execution_count": null,
      "outputs": [
        {
          "output_type": "stream",
          "name": "stderr",
          "text": [
            "100%|██████████| 170M/170M [00:05<00:00, 32.0MB/s]\n"
          ]
        }
      ]
    },
    {
      "cell_type": "code",
      "source": [
        "# verify data\n",
        "print(train_data)\n",
        "print(valid_data)"
      ],
      "metadata": {
        "colab": {
          "base_uri": "https://localhost:8080/"
        },
        "id": "GaMzOfM-lMD1",
        "outputId": "dc9d3792-b163-41c3-8d2c-e025045e6285"
      },
      "execution_count": null,
      "outputs": [
        {
          "output_type": "stream",
          "name": "stdout",
          "text": [
            "Dataset CIFAR10\n",
            "    Number of datapoints: 50000\n",
            "    Root location: .\n",
            "    Split: Train\n",
            "    StandardTransform\n",
            "Transform: ToTensor()\n",
            "Dataset CIFAR10\n",
            "    Number of datapoints: 10000\n",
            "    Root location: .\n",
            "    Split: Test\n",
            "    StandardTransform\n",
            "Transform: ToTensor()\n"
          ]
        }
      ]
    },
    {
      "cell_type": "markdown",
      "source": [
        "## Define, train and evaluate MLP"
      ],
      "metadata": {
        "id": "zcGksvffm5hH"
      }
    },
    {
      "cell_type": "markdown",
      "source": [
        "Building a MLP class with two hidden layers, that is designed for classification by flattening the input of the image. Dropout in nn is then used as a regularization technique to prevent overfitting during the training of the DL model. It is applied on the outputs of the hidden layer, 10 neurons are are required, since we have 10 classes that needs to be distinguished. It applies a ReLU activation as a non0linear activation function."
      ],
      "metadata": {
        "id": "hsvvLfTdpYTp"
      }
    },
    {
      "cell_type": "code",
      "source": [
        "# initiate MLP in PyTorch with two hidden layers.\n",
        "class MLP(torch.nn.Module):\n",
        "  def __init__(self):\n",
        "    # 1. input layer - transform flattened image data into hidden layer size 512\n",
        "    # 2. second hidden layer - transform output of the first hidden layer to a size of 256\n",
        "    # 3. dropout to prevent overfitting\n",
        "    # 4. output - that maps second hidden layer to 10 classes of the images\n",
        "    super(MLP, self).__init__() #\n",
        "    # 1. take image \"Each file contains 10000 such 3073-byte \"rows\" of images\" source https://www.cs.toronto.edu/~kriz/cifar.html\n",
        "    # Linear the images for classification\n",
        "    self.d1 = nn.Linear(3 * 32 * 32, 512)\n",
        "    # 2. output vector size of 512 hidden layer -> a vector size of 256\n",
        "    self.d2 = nn.Linear(512, 256)\n",
        "    # 3.\n",
        "    self.dropout = nn.Dropout(p = 0.2)\n",
        "    # 4. map the 10 classes from the 256 second hidden layer\n",
        "    self.d3 = nn.Linear(256, 10)\n",
        "\n",
        "  def forward(self, x):\n",
        "    # 3D shape to a 1D vector\n",
        "    x = x.flatten(start_dim = 1)\n",
        "    x = self.d1(x) # pass flattened data to first linear layer\n",
        "    x = F.relu(x) # non-linear activation\n",
        "    x = self.d2(x)\n",
        "    x = F.relu(x)\n",
        "    x = self.dropout(x) # prevent overfitting\n",
        "    node = self.d3(x)\n",
        "    # apply softmax to conver the node into probabilities\n",
        "    # essential to understand the model's prediction\n",
        "    output = F.softmax(node, dim = 1)\n",
        "    return output\n"
      ],
      "metadata": {
        "id": "XUUCCiCunDEj"
      },
      "execution_count": null,
      "outputs": []
    },
    {
      "cell_type": "markdown",
      "source": [
        "Verify if the MLP model is correctly configured"
      ],
      "metadata": {
        "id": "1TkaRSypK7jQ"
      }
    },
    {
      "cell_type": "code",
      "source": [
        "sanity_check = MLP()\n",
        "image, labels = next(iter(train_loader))\n",
        "# check if the data being loaded has the correct dimensions\n",
        "print(\"batch size: \", image.shape)\n",
        "out = sanity_check(image)\n",
        "print(out.shape)"
      ],
      "metadata": {
        "colab": {
          "base_uri": "https://localhost:8080/"
        },
        "id": "9MjbBx3qJQdQ",
        "outputId": "cff4e374-d822-4986-b369-405b90a1c3bd"
      },
      "execution_count": null,
      "outputs": [
        {
          "output_type": "stream",
          "name": "stdout",
          "text": [
            "batch size:  torch.Size([16, 3, 32, 32])\n",
            "torch.Size([16, 10])\n"
          ]
        }
      ]
    },
    {
      "cell_type": "markdown",
      "source": [
        "##Define Parameters"
      ],
      "metadata": {
        "id": "o-ZXzs2pTNEI"
      }
    },
    {
      "cell_type": "markdown",
      "source": [
        "This will consist the learning rate with optimized weight, epochs number of traning steps, cross compute the loss of the model with the use of torch.nn.CrossEntropyLoss. Then the optimize uses SGD to optimize its weights.\n"
      ],
      "metadata": {
        "id": "WGiaytCRTUZG"
      }
    },
    {
      "cell_type": "code",
      "source": [
        "def accuracy(output, target, batch_size):\n",
        "  # find the maximum value for each of the 10 classes row\n",
        "  pred = torch.max(output,1)[1].view(target.size())\n",
        "  correct = (pred.data == target.data).sum() # compare the target and prediction\n",
        "  accuracy = 100 * correct / batch_size\n",
        "  return accuracy.item()"
      ],
      "metadata": {
        "id": "S4ivjJ_gVF0b"
      },
      "execution_count": null,
      "outputs": []
    },
    {
      "cell_type": "code",
      "source": [
        "learning_rate = 0.01\n",
        "train_epochs = 16\n",
        "model = MLP()\n",
        "# setting the model to the actual GPU/device used for training\n",
        "model = model.to(device)\n",
        "cross = nn.CrossEntropyLoss()\n",
        "optimize = torch.optim.SGD(model.parameters(), lr = learning_rate)"
      ],
      "metadata": {
        "id": "tunQHKrBUGiH"
      },
      "execution_count": null,
      "outputs": []
    },
    {
      "cell_type": "markdown",
      "source": [
        "## Training"
      ],
      "metadata": {
        "id": "dHmjB7fOV5pl"
      }
    },
    {
      "cell_type": "code",
      "source": [
        "train_accuracy_list = []\n",
        "test_accuracy_list = []\n",
        "train_loss_list = []\n",
        "test_loss_list = []\n",
        "\n",
        "# recording for pandas\n",
        "records = []\n",
        "print(\"Training... \")\n",
        "for epoch in range(train_epochs):\n",
        "  epoch_start_time = time.time() # start the timer for epoch\n",
        "  train_run_loss = 0.0\n",
        "  train_accuracy = 0.0\n",
        "  test_run_loss = 0.0\n",
        "  test_accuracy = 0.0\n",
        "\n",
        "  model.train() # set the model in \"training mode\"\n",
        "  for i, (image, labels) in enumerate(train_loader):\n",
        "    image, labels = image.to(device), labels.to(device)\n",
        "    # forward pass\n",
        "    pred = model(image)\n",
        "    loss = cross(pred, labels)\n",
        "    # backward pass and sgd optimization\n",
        "    optimize.zero_grad() # ensures the gradients are cleared before the new ones that are computed\n",
        "    loss.backward()\n",
        "    # update model parameter\n",
        "    optimize.step()\n",
        "\n",
        "    train_run_loss += loss.detach().item()\n",
        "    train_accuracy += accuracy(pred, labels, batch_size)\n",
        "\n",
        "  # calculate average loss and accuracy for the training epoch\n",
        "  accuracy_train = train_accuracy / (i + 1)\n",
        "  loss_train = train_run_loss / (i + 1)\n",
        "  train_accuracy_list.append(accuracy_train)\n",
        "  train_loss_list.append(loss_train)\n",
        "\n",
        "  # validate the step\n",
        "  model.eval() # set model to evaluation mode\n",
        "  with torch.no_grad(): # disable gradient calc to optimize memory\n",
        "    for i, (image, labels) in enumerate(valid_loader):\n",
        "      image, labels = image.to(device), labels.to(device)\n",
        "      # forward pass\n",
        "      pred = model(image)\n",
        "      loss = cross(pred, labels)\n",
        "      # update\n",
        "      test_run_loss += loss.item()\n",
        "      test_accuracy += accuracy(pred, labels, batch_size)\n",
        "\n",
        "    accuracy_test = test_accuracy / (i + 1)\n",
        "    loss_test = test_run_loss / (i + 1)\n",
        "    test_accuracy_list.append(accuracy_test)\n",
        "    test_loss_list.append(loss_test)\n",
        "\n",
        "    # calculate epoch results and time\n",
        "    epoch_end_time = time.time()\n",
        "    epoch_test = epoch_end_time - epoch_start_time\n",
        "\n",
        "    # put data into a dictionary\n",
        "    record = {\n",
        "        'epoch': epoch + 1,\n",
        "        'train_loss': loss_train,\n",
        "        'train_accuracy': accuracy_train,\n",
        "        'val_loss': loss_test,\n",
        "        'val_accuracy': accuracy_test,\n",
        "        'time_dur': epoch_test\n",
        "    }\n",
        "    records.append(record)\n",
        "\n",
        "    print(f'Epoch: {record[\"epoch\"]} | Train Loss: {record[\"train_loss\"]:.4f} | Train Acc: {record[\"train_accuracy\"]:.2f}% | Val. Loss: {record[\"val_loss\"]:.4f} | Val. Acc: {record[\"val_accuracy\"]:.2f}% | Time: {record[\"time_dur\"]}')\n",
        "\n",
        "print('\\nTraining Complete')"
      ],
      "metadata": {
        "colab": {
          "base_uri": "https://localhost:8080/"
        },
        "id": "FMVrxBpRV6-8",
        "outputId": "3f7bc161-735d-4ac9-8da1-246f6da5951b"
      },
      "execution_count": null,
      "outputs": [
        {
          "output_type": "stream",
          "name": "stdout",
          "text": [
            "Training... \n",
            "Epoch: 1 | Train Loss: 2.1737 | Train Acc: 28.21% | Val. Loss: 2.1594 | Val. Acc: 29.59% | Time: 39.85073375701904\n",
            "Epoch: 2 | Train Loss: 2.1554 | Train Acc: 29.95% | Val. Loss: 2.1437 | Val. Acc: 31.55% | Time: 39.53809189796448\n",
            "Epoch: 3 | Train Loss: 2.1370 | Train Acc: 31.98% | Val. Loss: 2.1186 | Val. Acc: 34.53% | Time: 39.58422899246216\n",
            "Epoch: 4 | Train Loss: 2.1185 | Train Acc: 34.11% | Val. Loss: 2.1055 | Val. Acc: 35.57% | Time: 39.90397262573242\n",
            "Epoch: 5 | Train Loss: 2.1061 | Train Acc: 35.31% | Val. Loss: 2.1011 | Val. Acc: 35.90% | Time: 40.79927730560303\n",
            "Epoch: 6 | Train Loss: 2.0957 | Train Acc: 36.37% | Val. Loss: 2.0876 | Val. Acc: 37.37% | Time: 40.19977617263794\n",
            "Epoch: 7 | Train Loss: 2.0882 | Train Acc: 37.07% | Val. Loss: 2.0806 | Val. Acc: 37.94% | Time: 40.13397288322449\n",
            "Epoch: 8 | Train Loss: 2.0805 | Train Acc: 37.86% | Val. Loss: 2.0742 | Val. Acc: 38.47% | Time: 39.323590993881226\n",
            "Epoch: 9 | Train Loss: 2.0730 | Train Acc: 38.74% | Val. Loss: 2.0671 | Val. Acc: 38.97% | Time: 39.85090708732605\n",
            "Epoch: 10 | Train Loss: 2.0666 | Train Acc: 39.27% | Val. Loss: 2.0597 | Val. Acc: 39.69% | Time: 40.11030554771423\n",
            "Epoch: 11 | Train Loss: 2.0607 | Train Acc: 39.83% | Val. Loss: 2.0725 | Val. Acc: 38.29% | Time: 40.861432790756226\n",
            "Epoch: 12 | Train Loss: 2.0547 | Train Acc: 40.39% | Val. Loss: 2.0528 | Val. Acc: 40.51% | Time: 39.90398836135864\n",
            "Epoch: 13 | Train Loss: 2.0493 | Train Acc: 40.92% | Val. Loss: 2.0583 | Val. Acc: 39.79% | Time: 40.98080563545227\n",
            "Epoch: 14 | Train Loss: 2.0445 | Train Acc: 41.43% | Val. Loss: 2.0387 | Val. Acc: 41.89% | Time: 40.166908264160156\n",
            "Epoch: 15 | Train Loss: 2.0388 | Train Acc: 41.96% | Val. Loss: 2.0336 | Val. Acc: 42.43% | Time: 39.94633460044861\n",
            "Epoch: 16 | Train Loss: 2.0341 | Train Acc: 42.47% | Val. Loss: 2.0386 | Val. Acc: 41.63% | Time: 40.226053953170776\n",
            "Epoch: 17 | Train Loss: 2.0296 | Train Acc: 43.02% | Val. Loss: 2.0350 | Val. Acc: 42.38% | Time: 40.49790596961975\n",
            "Epoch: 18 | Train Loss: 2.0253 | Train Acc: 43.37% | Val. Loss: 2.0383 | Val. Acc: 41.90% | Time: 41.002466917037964\n",
            "Epoch: 19 | Train Loss: 2.0213 | Train Acc: 43.81% | Val. Loss: 2.0277 | Val. Acc: 42.81% | Time: 43.02708601951599\n",
            "Epoch: 20 | Train Loss: 2.0162 | Train Acc: 44.37% | Val. Loss: 2.0182 | Val. Acc: 43.84% | Time: 41.79633378982544\n",
            "Epoch: 21 | Train Loss: 2.0116 | Train Acc: 44.90% | Val. Loss: 2.0213 | Val. Acc: 43.59% | Time: 41.5355761051178\n",
            "Epoch: 22 | Train Loss: 2.0083 | Train Acc: 45.23% | Val. Loss: 2.0199 | Val. Acc: 43.76% | Time: 41.42740845680237\n",
            "Epoch: 23 | Train Loss: 2.0038 | Train Acc: 45.76% | Val. Loss: 2.0112 | Val. Acc: 44.58% | Time: 40.59381675720215\n",
            "Epoch: 24 | Train Loss: 2.0007 | Train Acc: 46.04% | Val. Loss: 2.0077 | Val. Acc: 44.86% | Time: 40.33613991737366\n",
            "Epoch: 25 | Train Loss: 1.9968 | Train Acc: 46.46% | Val. Loss: 2.0049 | Val. Acc: 45.26% | Time: 41.71959400177002\n",
            "Epoch: 26 | Train Loss: 1.9930 | Train Acc: 46.86% | Val. Loss: 2.0029 | Val. Acc: 45.18% | Time: 41.277727127075195\n",
            "Epoch: 27 | Train Loss: 1.9890 | Train Acc: 47.25% | Val. Loss: 2.0047 | Val. Acc: 45.22% | Time: 41.7087459564209\n",
            "Epoch: 28 | Train Loss: 1.9852 | Train Acc: 47.58% | Val. Loss: 1.9966 | Val. Acc: 46.31% | Time: 40.99918031692505\n",
            "Epoch: 29 | Train Loss: 1.9816 | Train Acc: 47.90% | Val. Loss: 1.9944 | Val. Acc: 46.39% | Time: 41.03437280654907\n",
            "Epoch: 30 | Train Loss: 1.9784 | Train Acc: 48.27% | Val. Loss: 1.9933 | Val. Acc: 46.43% | Time: 41.74885034561157\n",
            "Epoch: 31 | Train Loss: 1.9751 | Train Acc: 48.71% | Val. Loss: 1.9890 | Val. Acc: 46.66% | Time: 40.87963843345642\n",
            "Epoch: 32 | Train Loss: 1.9723 | Train Acc: 48.96% | Val. Loss: 1.9889 | Val. Acc: 47.02% | Time: 40.30838632583618\n",
            "\n",
            "Training Complete\n"
          ]
        }
      ]
    },
    {
      "cell_type": "markdown",
      "source": [
        "## Plot the data\n"
      ],
      "metadata": {
        "id": "IDTW5fBLe1YT"
      }
    },
    {
      "cell_type": "code",
      "source": [
        "plt.figure(figsize = (13,9))\n",
        "plt.plot(range(train_epochs), train_accuracy_list, \"r\", label = \"trained\")\n",
        "plt.plot(range(train_epochs), test_accuracy_list, \"b\", label = \"validated\")\n",
        "plt.xlabel(\"Epoch\")\n",
        "plt.xlim(0, train_epochs - 1)\n",
        "plt.title(\"MLP - 2 hidden layers model\")\n",
        "plt.grid(True)\n",
        "plt.legend()\n",
        "plt.show()"
      ],
      "metadata": {
        "colab": {
          "base_uri": "https://localhost:8080/",
          "height": 786
        },
        "id": "m2LMYeIge1BZ",
        "outputId": "546475bb-4d0c-46e9-81c1-f7c39c5769dd"
      },
      "execution_count": null,
      "outputs": [
        {
          "output_type": "display_data",
          "data": {
            "text/plain": [
              "<Figure size 1300x900 with 1 Axes>"
            ],
            "image/svg+xml": "<?xml version=\"1.0\" encoding=\"utf-8\" standalone=\"no\"?>\n<!DOCTYPE svg PUBLIC \"-//W3C//DTD SVG 1.1//EN\"\n  \"http://www.w3.org/Graphics/SVG/1.1/DTD/svg11.dtd\">\n<svg xmlns:xlink=\"http://www.w3.org/1999/xlink\" width=\"759.525pt\" height=\"558.834375pt\" viewBox=\"0 0 759.525 558.834375\" xmlns=\"http://www.w3.org/2000/svg\" version=\"1.1\">\n <metadata>\n  <rdf:RDF xmlns:dc=\"http://purl.org/dc/elements/1.1/\" xmlns:cc=\"http://creativecommons.org/ns#\" xmlns:rdf=\"http://www.w3.org/1999/02/22-rdf-syntax-ns#\">\n   <cc:Work>\n    <dc:type rdf:resource=\"http://purl.org/dc/dcmitype/StillImage\"/>\n    <dc:date>2025-09-09T23:36:59.648676</dc:date>\n    <dc:format>image/svg+xml</dc:format>\n    <dc:creator>\n     <cc:Agent>\n      <dc:title>Matplotlib v3.10.0, https://matplotlib.org/</dc:title>\n     </cc:Agent>\n    </dc:creator>\n   </cc:Work>\n  </rdf:RDF>\n </metadata>\n <defs>\n  <style type=\"text/css\">*{stroke-linejoin: round; stroke-linecap: butt}</style>\n </defs>\n <g id=\"figure_1\">\n  <g id=\"patch_1\">\n   <path d=\"M 0 558.834375 \nL 759.525 558.834375 \nL 759.525 0 \nL 0 0 \nz\n\" style=\"fill: #ffffff\"/>\n  </g>\n  <g id=\"axes_1\">\n   <g id=\"patch_2\">\n    <path d=\"M 26.925 521.278125 \nL 752.325 521.278125 \nL 752.325 22.318125 \nL 26.925 22.318125 \nz\n\" style=\"fill: #ffffff\"/>\n   </g>\n   <g id=\"matplotlib.axis_1\">\n    <g id=\"xtick_1\">\n     <g id=\"line2d_1\">\n      <path d=\"M 26.925 521.278125 \nL 26.925 22.318125 \n\" clip-path=\"url(#p27c74c28b1)\" style=\"fill: none; stroke: #b0b0b0; stroke-width: 0.8; stroke-linecap: square\"/>\n     </g>\n     <g id=\"line2d_2\">\n      <defs>\n       <path id=\"m8fb98498ef\" d=\"M 0 0 \nL 0 3.5 \n\" style=\"stroke: #000000; stroke-width: 0.8\"/>\n      </defs>\n      <g>\n       <use xlink:href=\"#m8fb98498ef\" x=\"26.925\" y=\"521.278125\" style=\"stroke: #000000; stroke-width: 0.8\"/>\n      </g>\n     </g>\n     <g id=\"text_1\">\n      <!-- 0 -->\n      <g transform=\"translate(23.74375 535.876562) scale(0.1 -0.1)\">\n       <defs>\n        <path id=\"DejaVuSans-30\" d=\"M 2034 4250 \nQ 1547 4250 1301 3770 \nQ 1056 3291 1056 2328 \nQ 1056 1369 1301 889 \nQ 1547 409 2034 409 \nQ 2525 409 2770 889 \nQ 3016 1369 3016 2328 \nQ 3016 3291 2770 3770 \nQ 2525 4250 2034 4250 \nz\nM 2034 4750 \nQ 2819 4750 3233 4129 \nQ 3647 3509 3647 2328 \nQ 3647 1150 3233 529 \nQ 2819 -91 2034 -91 \nQ 1250 -91 836 529 \nQ 422 1150 422 2328 \nQ 422 3509 836 4129 \nQ 1250 4750 2034 4750 \nz\n\" transform=\"scale(0.015625)\"/>\n       </defs>\n       <use xlink:href=\"#DejaVuSans-30\"/>\n      </g>\n     </g>\n    </g>\n    <g id=\"xtick_2\">\n     <g id=\"line2d_3\">\n      <path d=\"M 143.925 521.278125 \nL 143.925 22.318125 \n\" clip-path=\"url(#p27c74c28b1)\" style=\"fill: none; stroke: #b0b0b0; stroke-width: 0.8; stroke-linecap: square\"/>\n     </g>\n     <g id=\"line2d_4\">\n      <g>\n       <use xlink:href=\"#m8fb98498ef\" x=\"143.925\" y=\"521.278125\" style=\"stroke: #000000; stroke-width: 0.8\"/>\n      </g>\n     </g>\n     <g id=\"text_2\">\n      <!-- 5 -->\n      <g transform=\"translate(140.74375 535.876562) scale(0.1 -0.1)\">\n       <defs>\n        <path id=\"DejaVuSans-35\" d=\"M 691 4666 \nL 3169 4666 \nL 3169 4134 \nL 1269 4134 \nL 1269 2991 \nQ 1406 3038 1543 3061 \nQ 1681 3084 1819 3084 \nQ 2600 3084 3056 2656 \nQ 3513 2228 3513 1497 \nQ 3513 744 3044 326 \nQ 2575 -91 1722 -91 \nQ 1428 -91 1123 -41 \nQ 819 9 494 109 \nL 494 744 \nQ 775 591 1075 516 \nQ 1375 441 1709 441 \nQ 2250 441 2565 725 \nQ 2881 1009 2881 1497 \nQ 2881 1984 2565 2268 \nQ 2250 2553 1709 2553 \nQ 1456 2553 1204 2497 \nQ 953 2441 691 2322 \nL 691 4666 \nz\n\" transform=\"scale(0.015625)\"/>\n       </defs>\n       <use xlink:href=\"#DejaVuSans-35\"/>\n      </g>\n     </g>\n    </g>\n    <g id=\"xtick_3\">\n     <g id=\"line2d_5\">\n      <path d=\"M 260.925 521.278125 \nL 260.925 22.318125 \n\" clip-path=\"url(#p27c74c28b1)\" style=\"fill: none; stroke: #b0b0b0; stroke-width: 0.8; stroke-linecap: square\"/>\n     </g>\n     <g id=\"line2d_6\">\n      <g>\n       <use xlink:href=\"#m8fb98498ef\" x=\"260.925\" y=\"521.278125\" style=\"stroke: #000000; stroke-width: 0.8\"/>\n      </g>\n     </g>\n     <g id=\"text_3\">\n      <!-- 10 -->\n      <g transform=\"translate(254.5625 535.876562) scale(0.1 -0.1)\">\n       <defs>\n        <path id=\"DejaVuSans-31\" d=\"M 794 531 \nL 1825 531 \nL 1825 4091 \nL 703 3866 \nL 703 4441 \nL 1819 4666 \nL 2450 4666 \nL 2450 531 \nL 3481 531 \nL 3481 0 \nL 794 0 \nL 794 531 \nz\n\" transform=\"scale(0.015625)\"/>\n       </defs>\n       <use xlink:href=\"#DejaVuSans-31\"/>\n       <use xlink:href=\"#DejaVuSans-30\" transform=\"translate(63.623047 0)\"/>\n      </g>\n     </g>\n    </g>\n    <g id=\"xtick_4\">\n     <g id=\"line2d_7\">\n      <path d=\"M 377.925 521.278125 \nL 377.925 22.318125 \n\" clip-path=\"url(#p27c74c28b1)\" style=\"fill: none; stroke: #b0b0b0; stroke-width: 0.8; stroke-linecap: square\"/>\n     </g>\n     <g id=\"line2d_8\">\n      <g>\n       <use xlink:href=\"#m8fb98498ef\" x=\"377.925\" y=\"521.278125\" style=\"stroke: #000000; stroke-width: 0.8\"/>\n      </g>\n     </g>\n     <g id=\"text_4\">\n      <!-- 15 -->\n      <g transform=\"translate(371.5625 535.876562) scale(0.1 -0.1)\">\n       <use xlink:href=\"#DejaVuSans-31\"/>\n       <use xlink:href=\"#DejaVuSans-35\" transform=\"translate(63.623047 0)\"/>\n      </g>\n     </g>\n    </g>\n    <g id=\"xtick_5\">\n     <g id=\"line2d_9\">\n      <path d=\"M 494.925 521.278125 \nL 494.925 22.318125 \n\" clip-path=\"url(#p27c74c28b1)\" style=\"fill: none; stroke: #b0b0b0; stroke-width: 0.8; stroke-linecap: square\"/>\n     </g>\n     <g id=\"line2d_10\">\n      <g>\n       <use xlink:href=\"#m8fb98498ef\" x=\"494.925\" y=\"521.278125\" style=\"stroke: #000000; stroke-width: 0.8\"/>\n      </g>\n     </g>\n     <g id=\"text_5\">\n      <!-- 20 -->\n      <g transform=\"translate(488.5625 535.876562) scale(0.1 -0.1)\">\n       <defs>\n        <path id=\"DejaVuSans-32\" d=\"M 1228 531 \nL 3431 531 \nL 3431 0 \nL 469 0 \nL 469 531 \nQ 828 903 1448 1529 \nQ 2069 2156 2228 2338 \nQ 2531 2678 2651 2914 \nQ 2772 3150 2772 3378 \nQ 2772 3750 2511 3984 \nQ 2250 4219 1831 4219 \nQ 1534 4219 1204 4116 \nQ 875 4013 500 3803 \nL 500 4441 \nQ 881 4594 1212 4672 \nQ 1544 4750 1819 4750 \nQ 2544 4750 2975 4387 \nQ 3406 4025 3406 3419 \nQ 3406 3131 3298 2873 \nQ 3191 2616 2906 2266 \nQ 2828 2175 2409 1742 \nQ 1991 1309 1228 531 \nz\n\" transform=\"scale(0.015625)\"/>\n       </defs>\n       <use xlink:href=\"#DejaVuSans-32\"/>\n       <use xlink:href=\"#DejaVuSans-30\" transform=\"translate(63.623047 0)\"/>\n      </g>\n     </g>\n    </g>\n    <g id=\"xtick_6\">\n     <g id=\"line2d_11\">\n      <path d=\"M 611.925 521.278125 \nL 611.925 22.318125 \n\" clip-path=\"url(#p27c74c28b1)\" style=\"fill: none; stroke: #b0b0b0; stroke-width: 0.8; stroke-linecap: square\"/>\n     </g>\n     <g id=\"line2d_12\">\n      <g>\n       <use xlink:href=\"#m8fb98498ef\" x=\"611.925\" y=\"521.278125\" style=\"stroke: #000000; stroke-width: 0.8\"/>\n      </g>\n     </g>\n     <g id=\"text_6\">\n      <!-- 25 -->\n      <g transform=\"translate(605.5625 535.876562) scale(0.1 -0.1)\">\n       <use xlink:href=\"#DejaVuSans-32\"/>\n       <use xlink:href=\"#DejaVuSans-35\" transform=\"translate(63.623047 0)\"/>\n      </g>\n     </g>\n    </g>\n    <g id=\"xtick_7\">\n     <g id=\"line2d_13\">\n      <path d=\"M 728.925 521.278125 \nL 728.925 22.318125 \n\" clip-path=\"url(#p27c74c28b1)\" style=\"fill: none; stroke: #b0b0b0; stroke-width: 0.8; stroke-linecap: square\"/>\n     </g>\n     <g id=\"line2d_14\">\n      <g>\n       <use xlink:href=\"#m8fb98498ef\" x=\"728.925\" y=\"521.278125\" style=\"stroke: #000000; stroke-width: 0.8\"/>\n      </g>\n     </g>\n     <g id=\"text_7\">\n      <!-- 30 -->\n      <g transform=\"translate(722.5625 535.876562) scale(0.1 -0.1)\">\n       <defs>\n        <path id=\"DejaVuSans-33\" d=\"M 2597 2516 \nQ 3050 2419 3304 2112 \nQ 3559 1806 3559 1356 \nQ 3559 666 3084 287 \nQ 2609 -91 1734 -91 \nQ 1441 -91 1130 -33 \nQ 819 25 488 141 \nL 488 750 \nQ 750 597 1062 519 \nQ 1375 441 1716 441 \nQ 2309 441 2620 675 \nQ 2931 909 2931 1356 \nQ 2931 1769 2642 2001 \nQ 2353 2234 1838 2234 \nL 1294 2234 \nL 1294 2753 \nL 1863 2753 \nQ 2328 2753 2575 2939 \nQ 2822 3125 2822 3475 \nQ 2822 3834 2567 4026 \nQ 2313 4219 1838 4219 \nQ 1578 4219 1281 4162 \nQ 984 4106 628 3988 \nL 628 4550 \nQ 988 4650 1302 4700 \nQ 1616 4750 1894 4750 \nQ 2613 4750 3031 4423 \nQ 3450 4097 3450 3541 \nQ 3450 3153 3228 2886 \nQ 3006 2619 2597 2516 \nz\n\" transform=\"scale(0.015625)\"/>\n       </defs>\n       <use xlink:href=\"#DejaVuSans-33\"/>\n       <use xlink:href=\"#DejaVuSans-30\" transform=\"translate(63.623047 0)\"/>\n      </g>\n     </g>\n    </g>\n    <g id=\"text_8\">\n     <!-- Epoch -->\n     <g transform=\"translate(374.314063 549.554687) scale(0.1 -0.1)\">\n      <defs>\n       <path id=\"DejaVuSans-45\" d=\"M 628 4666 \nL 3578 4666 \nL 3578 4134 \nL 1259 4134 \nL 1259 2753 \nL 3481 2753 \nL 3481 2222 \nL 1259 2222 \nL 1259 531 \nL 3634 531 \nL 3634 0 \nL 628 0 \nL 628 4666 \nz\n\" transform=\"scale(0.015625)\"/>\n       <path id=\"DejaVuSans-70\" d=\"M 1159 525 \nL 1159 -1331 \nL 581 -1331 \nL 581 3500 \nL 1159 3500 \nL 1159 2969 \nQ 1341 3281 1617 3432 \nQ 1894 3584 2278 3584 \nQ 2916 3584 3314 3078 \nQ 3713 2572 3713 1747 \nQ 3713 922 3314 415 \nQ 2916 -91 2278 -91 \nQ 1894 -91 1617 61 \nQ 1341 213 1159 525 \nz\nM 3116 1747 \nQ 3116 2381 2855 2742 \nQ 2594 3103 2138 3103 \nQ 1681 3103 1420 2742 \nQ 1159 2381 1159 1747 \nQ 1159 1113 1420 752 \nQ 1681 391 2138 391 \nQ 2594 391 2855 752 \nQ 3116 1113 3116 1747 \nz\n\" transform=\"scale(0.015625)\"/>\n       <path id=\"DejaVuSans-6f\" d=\"M 1959 3097 \nQ 1497 3097 1228 2736 \nQ 959 2375 959 1747 \nQ 959 1119 1226 758 \nQ 1494 397 1959 397 \nQ 2419 397 2687 759 \nQ 2956 1122 2956 1747 \nQ 2956 2369 2687 2733 \nQ 2419 3097 1959 3097 \nz\nM 1959 3584 \nQ 2709 3584 3137 3096 \nQ 3566 2609 3566 1747 \nQ 3566 888 3137 398 \nQ 2709 -91 1959 -91 \nQ 1206 -91 779 398 \nQ 353 888 353 1747 \nQ 353 2609 779 3096 \nQ 1206 3584 1959 3584 \nz\n\" transform=\"scale(0.015625)\"/>\n       <path id=\"DejaVuSans-63\" d=\"M 3122 3366 \nL 3122 2828 \nQ 2878 2963 2633 3030 \nQ 2388 3097 2138 3097 \nQ 1578 3097 1268 2742 \nQ 959 2388 959 1747 \nQ 959 1106 1268 751 \nQ 1578 397 2138 397 \nQ 2388 397 2633 464 \nQ 2878 531 3122 666 \nL 3122 134 \nQ 2881 22 2623 -34 \nQ 2366 -91 2075 -91 \nQ 1284 -91 818 406 \nQ 353 903 353 1747 \nQ 353 2603 823 3093 \nQ 1294 3584 2113 3584 \nQ 2378 3584 2631 3529 \nQ 2884 3475 3122 3366 \nz\n\" transform=\"scale(0.015625)\"/>\n       <path id=\"DejaVuSans-68\" d=\"M 3513 2113 \nL 3513 0 \nL 2938 0 \nL 2938 2094 \nQ 2938 2591 2744 2837 \nQ 2550 3084 2163 3084 \nQ 1697 3084 1428 2787 \nQ 1159 2491 1159 1978 \nL 1159 0 \nL 581 0 \nL 581 4863 \nL 1159 4863 \nL 1159 2956 \nQ 1366 3272 1645 3428 \nQ 1925 3584 2291 3584 \nQ 2894 3584 3203 3211 \nQ 3513 2838 3513 2113 \nz\n\" transform=\"scale(0.015625)\"/>\n      </defs>\n      <use xlink:href=\"#DejaVuSans-45\"/>\n      <use xlink:href=\"#DejaVuSans-70\" transform=\"translate(63.183594 0)\"/>\n      <use xlink:href=\"#DejaVuSans-6f\" transform=\"translate(126.660156 0)\"/>\n      <use xlink:href=\"#DejaVuSans-63\" transform=\"translate(187.841797 0)\"/>\n      <use xlink:href=\"#DejaVuSans-68\" transform=\"translate(242.822266 0)\"/>\n     </g>\n    </g>\n   </g>\n   <g id=\"matplotlib.axis_2\">\n    <g id=\"ytick_1\">\n     <g id=\"line2d_15\">\n      <path d=\"M 26.925 459.388411 \nL 752.325 459.388411 \n\" clip-path=\"url(#p27c74c28b1)\" style=\"fill: none; stroke: #b0b0b0; stroke-width: 0.8; stroke-linecap: square\"/>\n     </g>\n     <g id=\"line2d_16\">\n      <defs>\n       <path id=\"mfd7dc30c18\" d=\"M 0 0 \nL -3.5 0 \n\" style=\"stroke: #000000; stroke-width: 0.8\"/>\n      </defs>\n      <g>\n       <use xlink:href=\"#mfd7dc30c18\" x=\"26.925\" y=\"459.388411\" style=\"stroke: #000000; stroke-width: 0.8\"/>\n      </g>\n     </g>\n     <g id=\"text_9\">\n      <!-- 30 -->\n      <g transform=\"translate(7.2 463.18763) scale(0.1 -0.1)\">\n       <use xlink:href=\"#DejaVuSans-33\"/>\n       <use xlink:href=\"#DejaVuSans-30\" transform=\"translate(63.623047 0)\"/>\n      </g>\n     </g>\n    </g>\n    <g id=\"ytick_2\">\n     <g id=\"line2d_17\">\n      <path d=\"M 26.925 350.108272 \nL 752.325 350.108272 \n\" clip-path=\"url(#p27c74c28b1)\" style=\"fill: none; stroke: #b0b0b0; stroke-width: 0.8; stroke-linecap: square\"/>\n     </g>\n     <g id=\"line2d_18\">\n      <g>\n       <use xlink:href=\"#mfd7dc30c18\" x=\"26.925\" y=\"350.108272\" style=\"stroke: #000000; stroke-width: 0.8\"/>\n      </g>\n     </g>\n     <g id=\"text_10\">\n      <!-- 35 -->\n      <g transform=\"translate(7.2 353.907491) scale(0.1 -0.1)\">\n       <use xlink:href=\"#DejaVuSans-33\"/>\n       <use xlink:href=\"#DejaVuSans-35\" transform=\"translate(63.623047 0)\"/>\n      </g>\n     </g>\n    </g>\n    <g id=\"ytick_3\">\n     <g id=\"line2d_19\">\n      <path d=\"M 26.925 240.828134 \nL 752.325 240.828134 \n\" clip-path=\"url(#p27c74c28b1)\" style=\"fill: none; stroke: #b0b0b0; stroke-width: 0.8; stroke-linecap: square\"/>\n     </g>\n     <g id=\"line2d_20\">\n      <g>\n       <use xlink:href=\"#mfd7dc30c18\" x=\"26.925\" y=\"240.828134\" style=\"stroke: #000000; stroke-width: 0.8\"/>\n      </g>\n     </g>\n     <g id=\"text_11\">\n      <!-- 40 -->\n      <g transform=\"translate(7.2 244.627352) scale(0.1 -0.1)\">\n       <defs>\n        <path id=\"DejaVuSans-34\" d=\"M 2419 4116 \nL 825 1625 \nL 2419 1625 \nL 2419 4116 \nz\nM 2253 4666 \nL 3047 4666 \nL 3047 1625 \nL 3713 1625 \nL 3713 1100 \nL 3047 1100 \nL 3047 0 \nL 2419 0 \nL 2419 1100 \nL 313 1100 \nL 313 1709 \nL 2253 4666 \nz\n\" transform=\"scale(0.015625)\"/>\n       </defs>\n       <use xlink:href=\"#DejaVuSans-34\"/>\n       <use xlink:href=\"#DejaVuSans-30\" transform=\"translate(63.623047 0)\"/>\n      </g>\n     </g>\n    </g>\n    <g id=\"ytick_4\">\n     <g id=\"line2d_21\">\n      <path d=\"M 26.925 131.547995 \nL 752.325 131.547995 \n\" clip-path=\"url(#p27c74c28b1)\" style=\"fill: none; stroke: #b0b0b0; stroke-width: 0.8; stroke-linecap: square\"/>\n     </g>\n     <g id=\"line2d_22\">\n      <g>\n       <use xlink:href=\"#mfd7dc30c18\" x=\"26.925\" y=\"131.547995\" style=\"stroke: #000000; stroke-width: 0.8\"/>\n      </g>\n     </g>\n     <g id=\"text_12\">\n      <!-- 45 -->\n      <g transform=\"translate(7.2 135.347214) scale(0.1 -0.1)\">\n       <use xlink:href=\"#DejaVuSans-34\"/>\n       <use xlink:href=\"#DejaVuSans-35\" transform=\"translate(63.623047 0)\"/>\n      </g>\n     </g>\n    </g>\n   </g>\n   <g id=\"line2d_23\">\n    <path d=\"M 26.925 498.598125 \nL 50.325 460.524925 \nL 73.725 416.2009 \nL 97.125 369.603849 \nL 120.525 343.376616 \nL 143.925 320.121802 \nL 167.325 304.866295 \nL 190.725 287.687457 \nL 214.125 268.279305 \nL 237.525 256.783034 \nL 260.925 244.58737 \nL 284.325 232.260571 \nL 307.725 220.676876 \nL 331.125 209.574014 \nL 354.525 198.077743 \nL 377.925 186.756321 \nL 401.325 174.779218 \nL 424.725 167.17332 \nL 448.125 157.60038 \nL 471.525 145.27358 \nL 494.925 133.733598 \nL 518.325 126.608533 \nL 541.725 114.84999 \nL 565.125 108.90515 \nL 588.525 99.638194 \nL 611.925 90.895783 \nL 635.325 82.459357 \nL 658.725 75.159443 \nL 682.125 68.121802 \nL 705.525 60.122496 \nL 728.925 50.374708 \nL 752.325 44.998125 \n\" clip-path=\"url(#p27c74c28b1)\" style=\"fill: none; stroke: #ff0000; stroke-width: 1.5; stroke-linecap: square\"/>\n   </g>\n   <g id=\"line2d_24\">\n    <path d=\"M 26.925 468.349383 \nL 50.325 425.511568 \nL 73.725 360.380605 \nL 97.125 337.650337 \nL 120.525 330.437847 \nL 143.925 298.309487 \nL 167.325 285.851551 \nL 190.725 274.267856 \nL 214.125 263.339842 \nL 237.525 247.603502 \nL 260.925 278.201941 \nL 284.325 229.68156 \nL 307.725 245.4179 \nL 331.125 199.520241 \nL 354.525 187.717986 \nL 377.925 205.202808 \nL 401.325 188.810788 \nL 424.725 199.301681 \nL 448.125 179.412696 \nL 471.525 156.900987 \nL 494.925 162.364994 \nL 518.325 158.649469 \nL 541.725 140.727527 \nL 565.125 134.607839 \nL 588.525 125.865428 \nL 611.925 127.61391 \nL 635.325 126.739669 \nL 658.725 102.916599 \nL 682.125 101.168116 \nL 705.525 100.293875 \nL 728.925 95.266989 \nL 752.325 87.398819 \n\" clip-path=\"url(#p27c74c28b1)\" style=\"fill: none; stroke: #0000ff; stroke-width: 1.5; stroke-linecap: square\"/>\n   </g>\n   <g id=\"patch_3\">\n    <path d=\"M 26.925 521.278125 \nL 26.925 22.318125 \n\" style=\"fill: none; stroke: #000000; stroke-width: 0.8; stroke-linejoin: miter; stroke-linecap: square\"/>\n   </g>\n   <g id=\"patch_4\">\n    <path d=\"M 752.325 521.278125 \nL 752.325 22.318125 \n\" style=\"fill: none; stroke: #000000; stroke-width: 0.8; stroke-linejoin: miter; stroke-linecap: square\"/>\n   </g>\n   <g id=\"patch_5\">\n    <path d=\"M 26.925 521.278125 \nL 752.325 521.278125 \n\" style=\"fill: none; stroke: #000000; stroke-width: 0.8; stroke-linejoin: miter; stroke-linecap: square\"/>\n   </g>\n   <g id=\"patch_6\">\n    <path d=\"M 26.925 22.318125 \nL 752.325 22.318125 \n\" style=\"fill: none; stroke: #000000; stroke-width: 0.8; stroke-linejoin: miter; stroke-linecap: square\"/>\n   </g>\n   <g id=\"text_13\">\n    <!-- MLP - 2 hidden layers model -->\n    <g transform=\"translate(304.52625 16.318125) scale(0.12 -0.12)\">\n     <defs>\n      <path id=\"DejaVuSans-4d\" d=\"M 628 4666 \nL 1569 4666 \nL 2759 1491 \nL 3956 4666 \nL 4897 4666 \nL 4897 0 \nL 4281 0 \nL 4281 4097 \nL 3078 897 \nL 2444 897 \nL 1241 4097 \nL 1241 0 \nL 628 0 \nL 628 4666 \nz\n\" transform=\"scale(0.015625)\"/>\n      <path id=\"DejaVuSans-4c\" d=\"M 628 4666 \nL 1259 4666 \nL 1259 531 \nL 3531 531 \nL 3531 0 \nL 628 0 \nL 628 4666 \nz\n\" transform=\"scale(0.015625)\"/>\n      <path id=\"DejaVuSans-50\" d=\"M 1259 4147 \nL 1259 2394 \nL 2053 2394 \nQ 2494 2394 2734 2622 \nQ 2975 2850 2975 3272 \nQ 2975 3691 2734 3919 \nQ 2494 4147 2053 4147 \nL 1259 4147 \nz\nM 628 4666 \nL 2053 4666 \nQ 2838 4666 3239 4311 \nQ 3641 3956 3641 3272 \nQ 3641 2581 3239 2228 \nQ 2838 1875 2053 1875 \nL 1259 1875 \nL 1259 0 \nL 628 0 \nL 628 4666 \nz\n\" transform=\"scale(0.015625)\"/>\n      <path id=\"DejaVuSans-20\" transform=\"scale(0.015625)\"/>\n      <path id=\"DejaVuSans-2d\" d=\"M 313 2009 \nL 1997 2009 \nL 1997 1497 \nL 313 1497 \nL 313 2009 \nz\n\" transform=\"scale(0.015625)\"/>\n      <path id=\"DejaVuSans-69\" d=\"M 603 3500 \nL 1178 3500 \nL 1178 0 \nL 603 0 \nL 603 3500 \nz\nM 603 4863 \nL 1178 4863 \nL 1178 4134 \nL 603 4134 \nL 603 4863 \nz\n\" transform=\"scale(0.015625)\"/>\n      <path id=\"DejaVuSans-64\" d=\"M 2906 2969 \nL 2906 4863 \nL 3481 4863 \nL 3481 0 \nL 2906 0 \nL 2906 525 \nQ 2725 213 2448 61 \nQ 2172 -91 1784 -91 \nQ 1150 -91 751 415 \nQ 353 922 353 1747 \nQ 353 2572 751 3078 \nQ 1150 3584 1784 3584 \nQ 2172 3584 2448 3432 \nQ 2725 3281 2906 2969 \nz\nM 947 1747 \nQ 947 1113 1208 752 \nQ 1469 391 1925 391 \nQ 2381 391 2643 752 \nQ 2906 1113 2906 1747 \nQ 2906 2381 2643 2742 \nQ 2381 3103 1925 3103 \nQ 1469 3103 1208 2742 \nQ 947 2381 947 1747 \nz\n\" transform=\"scale(0.015625)\"/>\n      <path id=\"DejaVuSans-65\" d=\"M 3597 1894 \nL 3597 1613 \nL 953 1613 \nQ 991 1019 1311 708 \nQ 1631 397 2203 397 \nQ 2534 397 2845 478 \nQ 3156 559 3463 722 \nL 3463 178 \nQ 3153 47 2828 -22 \nQ 2503 -91 2169 -91 \nQ 1331 -91 842 396 \nQ 353 884 353 1716 \nQ 353 2575 817 3079 \nQ 1281 3584 2069 3584 \nQ 2775 3584 3186 3129 \nQ 3597 2675 3597 1894 \nz\nM 3022 2063 \nQ 3016 2534 2758 2815 \nQ 2500 3097 2075 3097 \nQ 1594 3097 1305 2825 \nQ 1016 2553 972 2059 \nL 3022 2063 \nz\n\" transform=\"scale(0.015625)\"/>\n      <path id=\"DejaVuSans-6e\" d=\"M 3513 2113 \nL 3513 0 \nL 2938 0 \nL 2938 2094 \nQ 2938 2591 2744 2837 \nQ 2550 3084 2163 3084 \nQ 1697 3084 1428 2787 \nQ 1159 2491 1159 1978 \nL 1159 0 \nL 581 0 \nL 581 3500 \nL 1159 3500 \nL 1159 2956 \nQ 1366 3272 1645 3428 \nQ 1925 3584 2291 3584 \nQ 2894 3584 3203 3211 \nQ 3513 2838 3513 2113 \nz\n\" transform=\"scale(0.015625)\"/>\n      <path id=\"DejaVuSans-6c\" d=\"M 603 4863 \nL 1178 4863 \nL 1178 0 \nL 603 0 \nL 603 4863 \nz\n\" transform=\"scale(0.015625)\"/>\n      <path id=\"DejaVuSans-61\" d=\"M 2194 1759 \nQ 1497 1759 1228 1600 \nQ 959 1441 959 1056 \nQ 959 750 1161 570 \nQ 1363 391 1709 391 \nQ 2188 391 2477 730 \nQ 2766 1069 2766 1631 \nL 2766 1759 \nL 2194 1759 \nz\nM 3341 1997 \nL 3341 0 \nL 2766 0 \nL 2766 531 \nQ 2569 213 2275 61 \nQ 1981 -91 1556 -91 \nQ 1019 -91 701 211 \nQ 384 513 384 1019 \nQ 384 1609 779 1909 \nQ 1175 2209 1959 2209 \nL 2766 2209 \nL 2766 2266 \nQ 2766 2663 2505 2880 \nQ 2244 3097 1772 3097 \nQ 1472 3097 1187 3025 \nQ 903 2953 641 2809 \nL 641 3341 \nQ 956 3463 1253 3523 \nQ 1550 3584 1831 3584 \nQ 2591 3584 2966 3190 \nQ 3341 2797 3341 1997 \nz\n\" transform=\"scale(0.015625)\"/>\n      <path id=\"DejaVuSans-79\" d=\"M 2059 -325 \nQ 1816 -950 1584 -1140 \nQ 1353 -1331 966 -1331 \nL 506 -1331 \nL 506 -850 \nL 844 -850 \nQ 1081 -850 1212 -737 \nQ 1344 -625 1503 -206 \nL 1606 56 \nL 191 3500 \nL 800 3500 \nL 1894 763 \nL 2988 3500 \nL 3597 3500 \nL 2059 -325 \nz\n\" transform=\"scale(0.015625)\"/>\n      <path id=\"DejaVuSans-72\" d=\"M 2631 2963 \nQ 2534 3019 2420 3045 \nQ 2306 3072 2169 3072 \nQ 1681 3072 1420 2755 \nQ 1159 2438 1159 1844 \nL 1159 0 \nL 581 0 \nL 581 3500 \nL 1159 3500 \nL 1159 2956 \nQ 1341 3275 1631 3429 \nQ 1922 3584 2338 3584 \nQ 2397 3584 2469 3576 \nQ 2541 3569 2628 3553 \nL 2631 2963 \nz\n\" transform=\"scale(0.015625)\"/>\n      <path id=\"DejaVuSans-73\" d=\"M 2834 3397 \nL 2834 2853 \nQ 2591 2978 2328 3040 \nQ 2066 3103 1784 3103 \nQ 1356 3103 1142 2972 \nQ 928 2841 928 2578 \nQ 928 2378 1081 2264 \nQ 1234 2150 1697 2047 \nL 1894 2003 \nQ 2506 1872 2764 1633 \nQ 3022 1394 3022 966 \nQ 3022 478 2636 193 \nQ 2250 -91 1575 -91 \nQ 1294 -91 989 -36 \nQ 684 19 347 128 \nL 347 722 \nQ 666 556 975 473 \nQ 1284 391 1588 391 \nQ 1994 391 2212 530 \nQ 2431 669 2431 922 \nQ 2431 1156 2273 1281 \nQ 2116 1406 1581 1522 \nL 1381 1569 \nQ 847 1681 609 1914 \nQ 372 2147 372 2553 \nQ 372 3047 722 3315 \nQ 1072 3584 1716 3584 \nQ 2034 3584 2315 3537 \nQ 2597 3491 2834 3397 \nz\n\" transform=\"scale(0.015625)\"/>\n      <path id=\"DejaVuSans-6d\" d=\"M 3328 2828 \nQ 3544 3216 3844 3400 \nQ 4144 3584 4550 3584 \nQ 5097 3584 5394 3201 \nQ 5691 2819 5691 2113 \nL 5691 0 \nL 5113 0 \nL 5113 2094 \nQ 5113 2597 4934 2840 \nQ 4756 3084 4391 3084 \nQ 3944 3084 3684 2787 \nQ 3425 2491 3425 1978 \nL 3425 0 \nL 2847 0 \nL 2847 2094 \nQ 2847 2600 2669 2842 \nQ 2491 3084 2119 3084 \nQ 1678 3084 1418 2786 \nQ 1159 2488 1159 1978 \nL 1159 0 \nL 581 0 \nL 581 3500 \nL 1159 3500 \nL 1159 2956 \nQ 1356 3278 1631 3431 \nQ 1906 3584 2284 3584 \nQ 2666 3584 2933 3390 \nQ 3200 3197 3328 2828 \nz\n\" transform=\"scale(0.015625)\"/>\n     </defs>\n     <use xlink:href=\"#DejaVuSans-4d\"/>\n     <use xlink:href=\"#DejaVuSans-4c\" transform=\"translate(86.279297 0)\"/>\n     <use xlink:href=\"#DejaVuSans-50\" transform=\"translate(141.992188 0)\"/>\n     <use xlink:href=\"#DejaVuSans-20\" transform=\"translate(202.294922 0)\"/>\n     <use xlink:href=\"#DejaVuSans-2d\" transform=\"translate(234.082031 0)\"/>\n     <use xlink:href=\"#DejaVuSans-20\" transform=\"translate(270.166016 0)\"/>\n     <use xlink:href=\"#DejaVuSans-32\" transform=\"translate(301.953125 0)\"/>\n     <use xlink:href=\"#DejaVuSans-20\" transform=\"translate(365.576172 0)\"/>\n     <use xlink:href=\"#DejaVuSans-68\" transform=\"translate(397.363281 0)\"/>\n     <use xlink:href=\"#DejaVuSans-69\" transform=\"translate(460.742188 0)\"/>\n     <use xlink:href=\"#DejaVuSans-64\" transform=\"translate(488.525391 0)\"/>\n     <use xlink:href=\"#DejaVuSans-64\" transform=\"translate(552.001953 0)\"/>\n     <use xlink:href=\"#DejaVuSans-65\" transform=\"translate(615.478516 0)\"/>\n     <use xlink:href=\"#DejaVuSans-6e\" transform=\"translate(677.001953 0)\"/>\n     <use xlink:href=\"#DejaVuSans-20\" transform=\"translate(740.380859 0)\"/>\n     <use xlink:href=\"#DejaVuSans-6c\" transform=\"translate(772.167969 0)\"/>\n     <use xlink:href=\"#DejaVuSans-61\" transform=\"translate(799.951172 0)\"/>\n     <use xlink:href=\"#DejaVuSans-79\" transform=\"translate(861.230469 0)\"/>\n     <use xlink:href=\"#DejaVuSans-65\" transform=\"translate(920.410156 0)\"/>\n     <use xlink:href=\"#DejaVuSans-72\" transform=\"translate(981.933594 0)\"/>\n     <use xlink:href=\"#DejaVuSans-73\" transform=\"translate(1023.046875 0)\"/>\n     <use xlink:href=\"#DejaVuSans-20\" transform=\"translate(1075.146484 0)\"/>\n     <use xlink:href=\"#DejaVuSans-6d\" transform=\"translate(1106.933594 0)\"/>\n     <use xlink:href=\"#DejaVuSans-6f\" transform=\"translate(1204.345703 0)\"/>\n     <use xlink:href=\"#DejaVuSans-64\" transform=\"translate(1265.527344 0)\"/>\n     <use xlink:href=\"#DejaVuSans-65\" transform=\"translate(1329.003906 0)\"/>\n     <use xlink:href=\"#DejaVuSans-6c\" transform=\"translate(1390.527344 0)\"/>\n    </g>\n   </g>\n   <g id=\"legend_1\">\n    <g id=\"patch_7\">\n     <path d=\"M 33.925 59.674375 \nL 112.426563 59.674375 \nQ 114.426563 59.674375 114.426563 57.674375 \nL 114.426563 29.318125 \nQ 114.426563 27.318125 112.426563 27.318125 \nL 33.925 27.318125 \nQ 31.925 27.318125 31.925 29.318125 \nL 31.925 57.674375 \nQ 31.925 59.674375 33.925 59.674375 \nz\n\" style=\"fill: #ffffff; opacity: 0.8; stroke: #cccccc; stroke-linejoin: miter\"/>\n    </g>\n    <g id=\"line2d_25\">\n     <path d=\"M 35.925 35.416562 \nL 45.925 35.416562 \nL 55.925 35.416562 \n\" style=\"fill: none; stroke: #ff0000; stroke-width: 1.5; stroke-linecap: square\"/>\n    </g>\n    <g id=\"text_14\">\n     <!-- trained -->\n     <g transform=\"translate(63.925 38.916562) scale(0.1 -0.1)\">\n      <defs>\n       <path id=\"DejaVuSans-74\" d=\"M 1172 4494 \nL 1172 3500 \nL 2356 3500 \nL 2356 3053 \nL 1172 3053 \nL 1172 1153 \nQ 1172 725 1289 603 \nQ 1406 481 1766 481 \nL 2356 481 \nL 2356 0 \nL 1766 0 \nQ 1100 0 847 248 \nQ 594 497 594 1153 \nL 594 3053 \nL 172 3053 \nL 172 3500 \nL 594 3500 \nL 594 4494 \nL 1172 4494 \nz\n\" transform=\"scale(0.015625)\"/>\n      </defs>\n      <use xlink:href=\"#DejaVuSans-74\"/>\n      <use xlink:href=\"#DejaVuSans-72\" transform=\"translate(39.208984 0)\"/>\n      <use xlink:href=\"#DejaVuSans-61\" transform=\"translate(80.322266 0)\"/>\n      <use xlink:href=\"#DejaVuSans-69\" transform=\"translate(141.601562 0)\"/>\n      <use xlink:href=\"#DejaVuSans-6e\" transform=\"translate(169.384766 0)\"/>\n      <use xlink:href=\"#DejaVuSans-65\" transform=\"translate(232.763672 0)\"/>\n      <use xlink:href=\"#DejaVuSans-64\" transform=\"translate(294.287109 0)\"/>\n     </g>\n    </g>\n    <g id=\"line2d_26\">\n     <path d=\"M 35.925 50.094687 \nL 45.925 50.094687 \nL 55.925 50.094687 \n\" style=\"fill: none; stroke: #0000ff; stroke-width: 1.5; stroke-linecap: square\"/>\n    </g>\n    <g id=\"text_15\">\n     <!-- validated -->\n     <g transform=\"translate(63.925 53.594687) scale(0.1 -0.1)\">\n      <defs>\n       <path id=\"DejaVuSans-76\" d=\"M 191 3500 \nL 800 3500 \nL 1894 563 \nL 2988 3500 \nL 3597 3500 \nL 2284 0 \nL 1503 0 \nL 191 3500 \nz\n\" transform=\"scale(0.015625)\"/>\n      </defs>\n      <use xlink:href=\"#DejaVuSans-76\"/>\n      <use xlink:href=\"#DejaVuSans-61\" transform=\"translate(59.179688 0)\"/>\n      <use xlink:href=\"#DejaVuSans-6c\" transform=\"translate(120.458984 0)\"/>\n      <use xlink:href=\"#DejaVuSans-69\" transform=\"translate(148.242188 0)\"/>\n      <use xlink:href=\"#DejaVuSans-64\" transform=\"translate(176.025391 0)\"/>\n      <use xlink:href=\"#DejaVuSans-61\" transform=\"translate(239.501953 0)\"/>\n      <use xlink:href=\"#DejaVuSans-74\" transform=\"translate(300.78125 0)\"/>\n      <use xlink:href=\"#DejaVuSans-65\" transform=\"translate(339.990234 0)\"/>\n      <use xlink:href=\"#DejaVuSans-64\" transform=\"translate(401.513672 0)\"/>\n     </g>\n    </g>\n   </g>\n  </g>\n </g>\n <defs>\n  <clipPath id=\"p27c74c28b1\">\n   <rect x=\"26.925\" y=\"22.318125\" width=\"725.4\" height=\"498.96\"/>\n  </clipPath>\n </defs>\n</svg>\n"
          },
          "metadata": {}
        }
      ]
    },
    {
      "cell_type": "markdown",
      "source": [
        "## Save the results into a CSV file\n"
      ],
      "metadata": {
        "id": "bxbFuS7gfY2m"
      }
    },
    {
      "cell_type": "markdown",
      "source": [
        "https://pandas.pydata.org/docs/reference/api/pandas.DataFrame.from_records.html"
      ],
      "metadata": {
        "id": "3RO_zlFGA6QA"
      }
    },
    {
      "cell_type": "code",
      "source": [
        "df = pd.DataFrame.from_records(records).to_csv(\"mlp_records\")"
      ],
      "metadata": {
        "id": "3nmcwF--fe2K"
      },
      "execution_count": null,
      "outputs": []
    },
    {
      "cell_type": "markdown",
      "source": [],
      "metadata": {
        "id": "hgtkddw72MOT"
      }
    },
    {
      "cell_type": "markdown",
      "source": [
        "## Extra Experiment\n"
      ],
      "metadata": {
        "id": "iBKW833SCbOK"
      }
    },
    {
      "cell_type": "markdown",
      "source": [
        "How do different learning rates affect model performance (i.e., loss or accuracy)?\n"
      ],
      "metadata": {
        "id": "9aPXyc5t9S05"
      }
    },
    {
      "cell_type": "markdown",
      "source": [
        "## Define CNN\n"
      ],
      "metadata": {
        "id": "hbcrRRDIH1dX"
      }
    },
    {
      "cell_type": "markdown",
      "source": [
        "https://docs.pytorch.org/docs/stable/generated/torch.nn.Conv2d.html for Conv2d\n",
        "\n",
        "The goal is a simple 2D Convolutional Neural Network with atleast two hidden layers, that is designed for the 32*32 pixel images provided in the CIFAR 10 dataset\n",
        "\n",
        "For the first convolutional the out channel is 32 since its going to detect its basic, low-level features, the second convolutional layer, more diverse features and try to recognize more advance patterns, like its texture and details.\n",
        "\n",
        "Each of the layers is applied a reLU activation\n"
      ],
      "metadata": {
        "id": "Z-5Z9YcWCRXy"
      }
    },
    {
      "cell_type": "code",
      "source": [
        "class CNN(nn.Module):\n",
        "  def __init__(self):\n",
        "    super(CNN, self).__init__()\n",
        "    self.c1 = nn.Conv2d(in_channels = 3, out_channels = 16, kernel_size = 3, stride = 1, padding = 1)\n",
        "    self.p1 = nn.MaxPool2d(2, 2) # reduce dimension by half\n",
        "    self.c2 = nn.Conv2d(in_channels = 16, out_channels = 32, kernel_size = 3, stride = 1, padding = 1)\n",
        "    self.p2 = nn.MaxPool2d(2, 2)\n",
        "    self.dropout = nn.Dropout(p = 0.2) # prevent overfitting\n",
        "    self.f1 = nn.Linear(2048, 256)\n",
        "    self.dropout = nn.Dropout(p = 0.2)\n",
        "    self.f2 = nn.Linear(256, 128) # output layer of 10 classes\n",
        "    self.dropout = nn.Dropout(p = 0.2)\n",
        "    self.f3 = nn.Linear(128, 10)\n",
        "\n",
        "  def forward(self, x):\n",
        "    # first c1 with relu and max pooling, iterate for c2\n",
        "    x = F.relu(self.c1(x))\n",
        "    x = self.p1(x)\n",
        "    x = F.relu(self.c2(x))\n",
        "    x = self.p2(x)\n",
        "    # flatten the maps for dense layers\n",
        "    x = torch.flatten(x, 1)\n",
        "    x = self.f1(x)\n",
        "    x = F.relu(x)\n",
        "    x = self.dropout(x)\n",
        "    x = self.f2(x)\n",
        "    x = F.relu(x)\n",
        "    x = self.dropout(x)\n",
        "    # dense layer 2 for classification\n",
        "    node = self.f3(x)\n",
        "    return node\n",
        "\n",
        "model_CNN = CNN()\n",
        "model_CNN\n",
        "model_CNN.to(device)\n"
      ],
      "metadata": {
        "id": "uLAdkme4H42M",
        "colab": {
          "base_uri": "https://localhost:8080/"
        },
        "outputId": "59cc8393-9b30-47de-d561-e6c005a3e031"
      },
      "execution_count": null,
      "outputs": [
        {
          "output_type": "execute_result",
          "data": {
            "text/plain": [
              "CNN(\n",
              "  (c1): Conv2d(3, 16, kernel_size=(3, 3), stride=(1, 1), padding=(1, 1))\n",
              "  (p1): MaxPool2d(kernel_size=2, stride=2, padding=0, dilation=1, ceil_mode=False)\n",
              "  (c2): Conv2d(16, 32, kernel_size=(3, 3), stride=(1, 1), padding=(1, 1))\n",
              "  (p2): MaxPool2d(kernel_size=2, stride=2, padding=0, dilation=1, ceil_mode=False)\n",
              "  (dropout): Dropout(p=0.2, inplace=False)\n",
              "  (f1): Linear(in_features=2048, out_features=256, bias=True)\n",
              "  (f2): Linear(in_features=256, out_features=128, bias=True)\n",
              "  (f3): Linear(in_features=128, out_features=10, bias=True)\n",
              ")"
            ]
          },
          "metadata": {},
          "execution_count": 24
        }
      ]
    },
    {
      "cell_type": "markdown",
      "source": [
        "## Define Parameters\n"
      ],
      "metadata": {
        "id": "uZgrOb-4lVDG"
      }
    },
    {
      "cell_type": "code",
      "source": [
        "cnn_cross = nn.CrossEntropyLoss()\n",
        "# momentum is used here to smoothen optimization path, reduce oscillations and reaching a faster result\n",
        "cnn_optimize = torch.optim.SGD(model_CNN.parameters(), lr = 0.01, momentum = 0.5)"
      ],
      "metadata": {
        "id": "4Ehzrj11k541"
      },
      "execution_count": null,
      "outputs": []
    },
    {
      "cell_type": "markdown",
      "source": [
        "## Training\n"
      ],
      "metadata": {
        "id": "VRyduM51mSPd"
      }
    },
    {
      "cell_type": "code",
      "source": [
        "cnn_train_accuracy_list = []\n",
        "cnn_test_accuracy_list = []\n",
        "cnn_train_loss_list = []\n",
        "cnn_test_loss_list = []\n",
        "\n",
        "# recording for pandas\n",
        "cnn_records = []\n",
        "for epoch in range(train_epochs):\n",
        "  cnn_epoch_start_time = time.time()\n",
        "  cnn_train_loss = 0.0\n",
        "  cnn_train_accuracy = 0.0\n",
        "  cnn_test_loss = 0.0\n",
        "  cnn_test_accuracy = 0.0\n",
        "\n",
        "  model_CNN.train() # train mode\n",
        "  for i, (image, labels) in enumerate(train_loader):\n",
        "    # model_CNN.train() # train mode\n",
        "    image = image.to(device)\n",
        "    labels = labels.to(device)\n",
        "    pred = model_CNN(image)\n",
        "    cnn_loss = cnn_cross(pred, labels)\n",
        "    # backward pass and sgd optimization\n",
        "    cnn_optimize.zero_grad() # ensures the gradients are cleared before the new ones that are computed\n",
        "    cnn_loss.backward()\n",
        "    # update model parameter\n",
        "    cnn_optimize.step()\n",
        "\n",
        "    cnn_train_loss += cnn_loss.detach().item()\n",
        "    cnn_train_accuracy += accuracy(pred, labels, batch_size)\n",
        "\n",
        "  cnn_accuracy_train = cnn_train_accuracy / i\n",
        "  cnn_loss_train = cnn_train_loss / i\n",
        "  cnn_train_accuracy_list.append(cnn_accuracy_train)\n",
        "  cnn_train_loss_list.append(cnn_loss_train)\n",
        "\n",
        "  model_CNN.eval()\n",
        "  with torch.no_grad():\n",
        "    for i, (image, labels) in enumerate(valid_loader):\n",
        "      model_CNN.eval()\n",
        "      image = image.to(device)\n",
        "      labels = labels.to(device)\n",
        "      pred = model_CNN(image)\n",
        "      cnn_loss = cnn_cross(pred, labels)\n",
        "\n",
        "      cnn_test_loss += cnn_loss.item()\n",
        "      cnn_test_accuracy += accuracy(pred, labels, batch_size)\n",
        "\n",
        "  cnn_accuracy_test = cnn_test_accuracy / i\n",
        "  cnn_loss_test = cnn_test_loss / i\n",
        "  cnn_test_accuracy_list.append(cnn_accuracy_test)\n",
        "  cnn_test_loss_list.append(cnn_loss_test)\n",
        "\n",
        "  # calculate epoch results and time\n",
        "  cnn_epoch_end_time = time.time()\n",
        "  cnn_epoch_test = cnn_epoch_end_time - cnn_epoch_start_time\n",
        "\n",
        "  # put data into a dictionary\n",
        "  record = {\n",
        "      'epoch': epoch + 1,\n",
        "      'cnn_train_loss': cnn_loss_train,\n",
        "      'cnn_train_accuracy': cnn_accuracy_train,\n",
        "      'cnn_val_loss': cnn_loss_test,\n",
        "      'cnn_val_accuracy': cnn_accuracy_test,\n",
        "      'cnn_time_dur': cnn_epoch_test\n",
        "    }\n",
        "  cnn_records.append(record)\n",
        "\n",
        "  print(f'Epoch: {record[\"epoch\"]} | Train Loss: {record[\"cnn_train_loss\"]:.4f} | Train Acc: {record[\"cnn_train_accuracy\"]:.2f}% | Val. Loss: {record[\"cnn_val_loss\"]:.4f} | Val. Acc: {record[\"cnn_val_accuracy\"]:.2f}% | Time: {record[\"cnn_time_dur\"]}')\n",
        "\n",
        "print('\\nTraining Complete')\n",
        "\n"
      ],
      "metadata": {
        "colab": {
          "base_uri": "https://localhost:8080/",
          "height": 867
        },
        "id": "Z0AZ70D5mR5z",
        "outputId": "564b11ef-d94f-4ae1-c730-0472ac776247"
      },
      "execution_count": null,
      "outputs": [
        {
          "output_type": "stream",
          "name": "stdout",
          "text": [
            "Epoch: 1 | Train Loss: 1.9517 | Train Acc: 27.99% | Val. Loss: 1.6076 | Val. Acc: 42.47% | Time: 79.02823138237\n",
            "Epoch: 2 | Train Loss: 1.4976 | Train Acc: 45.77% | Val. Loss: 1.3970 | Val. Acc: 49.34% | Time: 78.44460844993591\n",
            "Epoch: 3 | Train Loss: 1.3095 | Train Acc: 53.00% | Val. Loss: 1.2376 | Val. Acc: 55.99% | Time: 77.17020869255066\n",
            "Epoch: 4 | Train Loss: 1.1650 | Train Acc: 58.78% | Val. Loss: 1.1165 | Val. Acc: 61.11% | Time: 76.91660141944885\n",
            "Epoch: 5 | Train Loss: 1.0545 | Train Acc: 62.48% | Val. Loss: 1.0810 | Val. Acc: 62.12% | Time: 78.56809425354004\n",
            "Epoch: 6 | Train Loss: 0.9609 | Train Acc: 66.02% | Val. Loss: 0.9727 | Val. Acc: 65.51% | Time: 80.23876810073853\n",
            "Epoch: 7 | Train Loss: 0.8849 | Train Acc: 68.55% | Val. Loss: 0.9536 | Val. Acc: 67.03% | Time: 75.50634264945984\n",
            "Epoch: 8 | Train Loss: 0.8095 | Train Acc: 71.51% | Val. Loss: 0.9039 | Val. Acc: 68.98% | Time: 77.48860502243042\n",
            "Epoch: 9 | Train Loss: 0.7437 | Train Acc: 73.60% | Val. Loss: 0.8722 | Val. Acc: 69.99% | Time: 75.1779797077179\n",
            "Epoch: 10 | Train Loss: 0.6815 | Train Acc: 75.89% | Val. Loss: 0.8904 | Val. Acc: 69.82% | Time: 77.27310061454773\n",
            "Epoch: 11 | Train Loss: 0.6249 | Train Acc: 78.02% | Val. Loss: 0.8844 | Val. Acc: 70.35% | Time: 77.63534903526306\n",
            "Epoch: 12 | Train Loss: 0.5656 | Train Acc: 79.90% | Val. Loss: 0.9461 | Val. Acc: 69.19% | Time: 75.06711459159851\n",
            "Epoch: 13 | Train Loss: 0.5119 | Train Acc: 81.78% | Val. Loss: 0.8994 | Val. Acc: 70.84% | Time: 78.1345272064209\n",
            "Epoch: 14 | Train Loss: 0.4640 | Train Acc: 83.52% | Val. Loss: 0.9993 | Val. Acc: 68.90% | Time: 79.21127796173096\n",
            "Epoch: 15 | Train Loss: 0.4201 | Train Acc: 85.15% | Val. Loss: 1.0155 | Val. Acc: 69.19% | Time: 75.01706290245056\n",
            "Epoch: 16 | Train Loss: 0.3794 | Train Acc: 86.53% | Val. Loss: 1.0561 | Val. Acc: 70.27% | Time: 78.49449110031128\n",
            "Epoch: 17 | Train Loss: 0.3478 | Train Acc: 87.64% | Val. Loss: 1.0545 | Val. Acc: 70.29% | Time: 77.8254656791687\n",
            "Epoch: 18 | Train Loss: 0.3115 | Train Acc: 89.03% | Val. Loss: 1.1011 | Val. Acc: 69.98% | Time: 76.88394594192505\n",
            "Epoch: 19 | Train Loss: 0.2848 | Train Acc: 89.93% | Val. Loss: 1.2152 | Val. Acc: 69.72% | Time: 77.22492718696594\n",
            "Epoch: 20 | Train Loss: 0.2679 | Train Acc: 90.56% | Val. Loss: 1.1586 | Val. Acc: 70.42% | Time: 74.46852278709412\n",
            "Epoch: 21 | Train Loss: 0.2421 | Train Acc: 91.57% | Val. Loss: 1.2444 | Val. Acc: 69.72% | Time: 77.11558246612549\n",
            "Epoch: 22 | Train Loss: 0.2308 | Train Acc: 91.99% | Val. Loss: 1.2543 | Val. Acc: 69.78% | Time: 74.85593223571777\n",
            "Epoch: 23 | Train Loss: 0.2088 | Train Acc: 92.75% | Val. Loss: 1.2754 | Val. Acc: 70.00% | Time: 77.43369483947754\n",
            "Epoch: 24 | Train Loss: 0.2011 | Train Acc: 93.08% | Val. Loss: 1.2933 | Val. Acc: 69.69% | Time: 77.40288662910461\n"
          ]
        },
        {
          "output_type": "error",
          "ename": "KeyboardInterrupt",
          "evalue": "",
          "traceback": [
            "\u001b[0;31m---------------------------------------------------------------------------\u001b[0m",
            "\u001b[0;31mKeyboardInterrupt\u001b[0m                         Traceback (most recent call last)",
            "\u001b[0;32m/tmp/ipython-input-2660402494.py\u001b[0m in \u001b[0;36m<cell line: 0>\u001b[0;34m()\u001b[0m\n\u001b[1;32m     18\u001b[0m     \u001b[0mimage\u001b[0m \u001b[0;34m=\u001b[0m \u001b[0mimage\u001b[0m\u001b[0;34m.\u001b[0m\u001b[0mto\u001b[0m\u001b[0;34m(\u001b[0m\u001b[0mdevice\u001b[0m\u001b[0;34m)\u001b[0m\u001b[0;34m\u001b[0m\u001b[0;34m\u001b[0m\u001b[0m\n\u001b[1;32m     19\u001b[0m     \u001b[0mlabels\u001b[0m \u001b[0;34m=\u001b[0m \u001b[0mlabels\u001b[0m\u001b[0;34m.\u001b[0m\u001b[0mto\u001b[0m\u001b[0;34m(\u001b[0m\u001b[0mdevice\u001b[0m\u001b[0;34m)\u001b[0m\u001b[0;34m\u001b[0m\u001b[0;34m\u001b[0m\u001b[0m\n\u001b[0;32m---> 20\u001b[0;31m     \u001b[0mpred\u001b[0m \u001b[0;34m=\u001b[0m \u001b[0mmodel_CNN\u001b[0m\u001b[0;34m(\u001b[0m\u001b[0mimage\u001b[0m\u001b[0;34m)\u001b[0m\u001b[0;34m\u001b[0m\u001b[0;34m\u001b[0m\u001b[0m\n\u001b[0m\u001b[1;32m     21\u001b[0m     \u001b[0mcnn_loss\u001b[0m \u001b[0;34m=\u001b[0m \u001b[0mcnn_cross\u001b[0m\u001b[0;34m(\u001b[0m\u001b[0mpred\u001b[0m\u001b[0;34m,\u001b[0m \u001b[0mlabels\u001b[0m\u001b[0;34m)\u001b[0m\u001b[0;34m\u001b[0m\u001b[0;34m\u001b[0m\u001b[0m\n\u001b[1;32m     22\u001b[0m     \u001b[0;31m# backward pass and sgd optimization\u001b[0m\u001b[0;34m\u001b[0m\u001b[0;34m\u001b[0m\u001b[0m\n",
            "\u001b[0;32m/usr/local/lib/python3.12/dist-packages/torch/nn/modules/module.py\u001b[0m in \u001b[0;36m_wrapped_call_impl\u001b[0;34m(self, *args, **kwargs)\u001b[0m\n\u001b[1;32m   1771\u001b[0m             \u001b[0;32mreturn\u001b[0m \u001b[0mself\u001b[0m\u001b[0;34m.\u001b[0m\u001b[0m_compiled_call_impl\u001b[0m\u001b[0;34m(\u001b[0m\u001b[0;34m*\u001b[0m\u001b[0margs\u001b[0m\u001b[0;34m,\u001b[0m \u001b[0;34m**\u001b[0m\u001b[0mkwargs\u001b[0m\u001b[0;34m)\u001b[0m  \u001b[0;31m# type: ignore[misc]\u001b[0m\u001b[0;34m\u001b[0m\u001b[0;34m\u001b[0m\u001b[0m\n\u001b[1;32m   1772\u001b[0m         \u001b[0;32melse\u001b[0m\u001b[0;34m:\u001b[0m\u001b[0;34m\u001b[0m\u001b[0;34m\u001b[0m\u001b[0m\n\u001b[0;32m-> 1773\u001b[0;31m             \u001b[0;32mreturn\u001b[0m \u001b[0mself\u001b[0m\u001b[0;34m.\u001b[0m\u001b[0m_call_impl\u001b[0m\u001b[0;34m(\u001b[0m\u001b[0;34m*\u001b[0m\u001b[0margs\u001b[0m\u001b[0;34m,\u001b[0m \u001b[0;34m**\u001b[0m\u001b[0mkwargs\u001b[0m\u001b[0;34m)\u001b[0m\u001b[0;34m\u001b[0m\u001b[0;34m\u001b[0m\u001b[0m\n\u001b[0m\u001b[1;32m   1774\u001b[0m \u001b[0;34m\u001b[0m\u001b[0m\n\u001b[1;32m   1775\u001b[0m     \u001b[0;31m# torchrec tests the code consistency with the following code\u001b[0m\u001b[0;34m\u001b[0m\u001b[0;34m\u001b[0m\u001b[0m\n",
            "\u001b[0;32m/usr/local/lib/python3.12/dist-packages/torch/nn/modules/module.py\u001b[0m in \u001b[0;36m_call_impl\u001b[0;34m(self, *args, **kwargs)\u001b[0m\n\u001b[1;32m   1782\u001b[0m                 \u001b[0;32mor\u001b[0m \u001b[0m_global_backward_pre_hooks\u001b[0m \u001b[0;32mor\u001b[0m \u001b[0m_global_backward_hooks\u001b[0m\u001b[0;34m\u001b[0m\u001b[0;34m\u001b[0m\u001b[0m\n\u001b[1;32m   1783\u001b[0m                 or _global_forward_hooks or _global_forward_pre_hooks):\n\u001b[0;32m-> 1784\u001b[0;31m             \u001b[0;32mreturn\u001b[0m \u001b[0mforward_call\u001b[0m\u001b[0;34m(\u001b[0m\u001b[0;34m*\u001b[0m\u001b[0margs\u001b[0m\u001b[0;34m,\u001b[0m \u001b[0;34m**\u001b[0m\u001b[0mkwargs\u001b[0m\u001b[0;34m)\u001b[0m\u001b[0;34m\u001b[0m\u001b[0;34m\u001b[0m\u001b[0m\n\u001b[0m\u001b[1;32m   1785\u001b[0m \u001b[0;34m\u001b[0m\u001b[0m\n\u001b[1;32m   1786\u001b[0m         \u001b[0mresult\u001b[0m \u001b[0;34m=\u001b[0m \u001b[0;32mNone\u001b[0m\u001b[0;34m\u001b[0m\u001b[0;34m\u001b[0m\u001b[0m\n",
            "\u001b[0;32m/tmp/ipython-input-2709774271.py\u001b[0m in \u001b[0;36mforward\u001b[0;34m(self, x)\u001b[0m\n\u001b[1;32m     18\u001b[0m     \u001b[0mx\u001b[0m \u001b[0;34m=\u001b[0m \u001b[0mself\u001b[0m\u001b[0;34m.\u001b[0m\u001b[0mp1\u001b[0m\u001b[0;34m(\u001b[0m\u001b[0mx\u001b[0m\u001b[0;34m)\u001b[0m\u001b[0;34m\u001b[0m\u001b[0;34m\u001b[0m\u001b[0m\n\u001b[1;32m     19\u001b[0m     \u001b[0mx\u001b[0m \u001b[0;34m=\u001b[0m \u001b[0mF\u001b[0m\u001b[0;34m.\u001b[0m\u001b[0mrelu\u001b[0m\u001b[0;34m(\u001b[0m\u001b[0mself\u001b[0m\u001b[0;34m.\u001b[0m\u001b[0mc2\u001b[0m\u001b[0;34m(\u001b[0m\u001b[0mx\u001b[0m\u001b[0;34m)\u001b[0m\u001b[0;34m)\u001b[0m\u001b[0;34m\u001b[0m\u001b[0;34m\u001b[0m\u001b[0m\n\u001b[0;32m---> 20\u001b[0;31m     \u001b[0mx\u001b[0m \u001b[0;34m=\u001b[0m \u001b[0mself\u001b[0m\u001b[0;34m.\u001b[0m\u001b[0mp2\u001b[0m\u001b[0;34m(\u001b[0m\u001b[0mx\u001b[0m\u001b[0;34m)\u001b[0m\u001b[0;34m\u001b[0m\u001b[0;34m\u001b[0m\u001b[0m\n\u001b[0m\u001b[1;32m     21\u001b[0m     \u001b[0;31m# flatten the maps for dense layers\u001b[0m\u001b[0;34m\u001b[0m\u001b[0;34m\u001b[0m\u001b[0m\n\u001b[1;32m     22\u001b[0m     \u001b[0mx\u001b[0m \u001b[0;34m=\u001b[0m \u001b[0mtorch\u001b[0m\u001b[0;34m.\u001b[0m\u001b[0mflatten\u001b[0m\u001b[0;34m(\u001b[0m\u001b[0mx\u001b[0m\u001b[0;34m,\u001b[0m \u001b[0;36m1\u001b[0m\u001b[0;34m)\u001b[0m\u001b[0;34m\u001b[0m\u001b[0;34m\u001b[0m\u001b[0m\n",
            "\u001b[0;32m/usr/local/lib/python3.12/dist-packages/torch/nn/modules/module.py\u001b[0m in \u001b[0;36m_wrapped_call_impl\u001b[0;34m(self, *args, **kwargs)\u001b[0m\n\u001b[1;32m   1771\u001b[0m             \u001b[0;32mreturn\u001b[0m \u001b[0mself\u001b[0m\u001b[0;34m.\u001b[0m\u001b[0m_compiled_call_impl\u001b[0m\u001b[0;34m(\u001b[0m\u001b[0;34m*\u001b[0m\u001b[0margs\u001b[0m\u001b[0;34m,\u001b[0m \u001b[0;34m**\u001b[0m\u001b[0mkwargs\u001b[0m\u001b[0;34m)\u001b[0m  \u001b[0;31m# type: ignore[misc]\u001b[0m\u001b[0;34m\u001b[0m\u001b[0;34m\u001b[0m\u001b[0m\n\u001b[1;32m   1772\u001b[0m         \u001b[0;32melse\u001b[0m\u001b[0;34m:\u001b[0m\u001b[0;34m\u001b[0m\u001b[0;34m\u001b[0m\u001b[0m\n\u001b[0;32m-> 1773\u001b[0;31m             \u001b[0;32mreturn\u001b[0m \u001b[0mself\u001b[0m\u001b[0;34m.\u001b[0m\u001b[0m_call_impl\u001b[0m\u001b[0;34m(\u001b[0m\u001b[0;34m*\u001b[0m\u001b[0margs\u001b[0m\u001b[0;34m,\u001b[0m \u001b[0;34m**\u001b[0m\u001b[0mkwargs\u001b[0m\u001b[0;34m)\u001b[0m\u001b[0;34m\u001b[0m\u001b[0;34m\u001b[0m\u001b[0m\n\u001b[0m\u001b[1;32m   1774\u001b[0m \u001b[0;34m\u001b[0m\u001b[0m\n\u001b[1;32m   1775\u001b[0m     \u001b[0;31m# torchrec tests the code consistency with the following code\u001b[0m\u001b[0;34m\u001b[0m\u001b[0;34m\u001b[0m\u001b[0m\n",
            "\u001b[0;32m/usr/local/lib/python3.12/dist-packages/torch/nn/modules/module.py\u001b[0m in \u001b[0;36m_call_impl\u001b[0;34m(self, *args, **kwargs)\u001b[0m\n\u001b[1;32m   1782\u001b[0m                 \u001b[0;32mor\u001b[0m \u001b[0m_global_backward_pre_hooks\u001b[0m \u001b[0;32mor\u001b[0m \u001b[0m_global_backward_hooks\u001b[0m\u001b[0;34m\u001b[0m\u001b[0;34m\u001b[0m\u001b[0m\n\u001b[1;32m   1783\u001b[0m                 or _global_forward_hooks or _global_forward_pre_hooks):\n\u001b[0;32m-> 1784\u001b[0;31m             \u001b[0;32mreturn\u001b[0m \u001b[0mforward_call\u001b[0m\u001b[0;34m(\u001b[0m\u001b[0;34m*\u001b[0m\u001b[0margs\u001b[0m\u001b[0;34m,\u001b[0m \u001b[0;34m**\u001b[0m\u001b[0mkwargs\u001b[0m\u001b[0;34m)\u001b[0m\u001b[0;34m\u001b[0m\u001b[0;34m\u001b[0m\u001b[0m\n\u001b[0m\u001b[1;32m   1785\u001b[0m \u001b[0;34m\u001b[0m\u001b[0m\n\u001b[1;32m   1786\u001b[0m         \u001b[0mresult\u001b[0m \u001b[0;34m=\u001b[0m \u001b[0;32mNone\u001b[0m\u001b[0;34m\u001b[0m\u001b[0;34m\u001b[0m\u001b[0m\n",
            "\u001b[0;32m/usr/local/lib/python3.12/dist-packages/torch/nn/modules/pooling.py\u001b[0m in \u001b[0;36mforward\u001b[0;34m(self, input)\u001b[0m\n\u001b[1;32m    222\u001b[0m \u001b[0;34m\u001b[0m\u001b[0m\n\u001b[1;32m    223\u001b[0m     \u001b[0;32mdef\u001b[0m \u001b[0mforward\u001b[0m\u001b[0;34m(\u001b[0m\u001b[0mself\u001b[0m\u001b[0;34m,\u001b[0m \u001b[0minput\u001b[0m\u001b[0;34m:\u001b[0m \u001b[0mTensor\u001b[0m\u001b[0;34m)\u001b[0m\u001b[0;34m:\u001b[0m\u001b[0;34m\u001b[0m\u001b[0;34m\u001b[0m\u001b[0m\n\u001b[0;32m--> 224\u001b[0;31m         return F.max_pool2d(\n\u001b[0m\u001b[1;32m    225\u001b[0m             \u001b[0minput\u001b[0m\u001b[0;34m,\u001b[0m\u001b[0;34m\u001b[0m\u001b[0;34m\u001b[0m\u001b[0m\n\u001b[1;32m    226\u001b[0m             \u001b[0mself\u001b[0m\u001b[0;34m.\u001b[0m\u001b[0mkernel_size\u001b[0m\u001b[0;34m,\u001b[0m\u001b[0;34m\u001b[0m\u001b[0;34m\u001b[0m\u001b[0m\n",
            "\u001b[0;32m/usr/local/lib/python3.12/dist-packages/torch/_jit_internal.py\u001b[0m in \u001b[0;36mfn\u001b[0;34m(*args, **kwargs)\u001b[0m\n\u001b[1;32m    625\u001b[0m             \u001b[0;32mreturn\u001b[0m \u001b[0mif_true\u001b[0m\u001b[0;34m(\u001b[0m\u001b[0;34m*\u001b[0m\u001b[0margs\u001b[0m\u001b[0;34m,\u001b[0m \u001b[0;34m**\u001b[0m\u001b[0mkwargs\u001b[0m\u001b[0;34m)\u001b[0m\u001b[0;34m\u001b[0m\u001b[0;34m\u001b[0m\u001b[0m\n\u001b[1;32m    626\u001b[0m         \u001b[0;32melse\u001b[0m\u001b[0;34m:\u001b[0m\u001b[0;34m\u001b[0m\u001b[0;34m\u001b[0m\u001b[0m\n\u001b[0;32m--> 627\u001b[0;31m             \u001b[0;32mreturn\u001b[0m \u001b[0mif_false\u001b[0m\u001b[0;34m(\u001b[0m\u001b[0;34m*\u001b[0m\u001b[0margs\u001b[0m\u001b[0;34m,\u001b[0m \u001b[0;34m**\u001b[0m\u001b[0mkwargs\u001b[0m\u001b[0;34m)\u001b[0m\u001b[0;34m\u001b[0m\u001b[0;34m\u001b[0m\u001b[0m\n\u001b[0m\u001b[1;32m    628\u001b[0m \u001b[0;34m\u001b[0m\u001b[0m\n\u001b[1;32m    629\u001b[0m     \u001b[0;32mif\u001b[0m \u001b[0mif_true\u001b[0m\u001b[0;34m.\u001b[0m\u001b[0m__doc__\u001b[0m \u001b[0;32mis\u001b[0m \u001b[0;32mNone\u001b[0m \u001b[0;32mand\u001b[0m \u001b[0mif_false\u001b[0m\u001b[0;34m.\u001b[0m\u001b[0m__doc__\u001b[0m \u001b[0;32mis\u001b[0m \u001b[0;32mnot\u001b[0m \u001b[0;32mNone\u001b[0m\u001b[0;34m:\u001b[0m\u001b[0;34m\u001b[0m\u001b[0;34m\u001b[0m\u001b[0m\n",
            "\u001b[0;32m/usr/local/lib/python3.12/dist-packages/torch/nn/functional.py\u001b[0m in \u001b[0;36m_max_pool2d\u001b[0;34m(input, kernel_size, stride, padding, dilation, ceil_mode, return_indices)\u001b[0m\n\u001b[1;32m    825\u001b[0m     \u001b[0;32mif\u001b[0m \u001b[0mstride\u001b[0m \u001b[0;32mis\u001b[0m \u001b[0;32mNone\u001b[0m\u001b[0;34m:\u001b[0m\u001b[0;34m\u001b[0m\u001b[0;34m\u001b[0m\u001b[0m\n\u001b[1;32m    826\u001b[0m         \u001b[0mstride\u001b[0m \u001b[0;34m=\u001b[0m \u001b[0mtorch\u001b[0m\u001b[0;34m.\u001b[0m\u001b[0mjit\u001b[0m\u001b[0;34m.\u001b[0m\u001b[0mannotate\u001b[0m\u001b[0;34m(\u001b[0m\u001b[0mlist\u001b[0m\u001b[0;34m[\u001b[0m\u001b[0mint\u001b[0m\u001b[0;34m]\u001b[0m\u001b[0;34m,\u001b[0m \u001b[0;34m[\u001b[0m\u001b[0;34m]\u001b[0m\u001b[0;34m)\u001b[0m\u001b[0;34m\u001b[0m\u001b[0;34m\u001b[0m\u001b[0m\n\u001b[0;32m--> 827\u001b[0;31m     \u001b[0;32mreturn\u001b[0m \u001b[0mtorch\u001b[0m\u001b[0;34m.\u001b[0m\u001b[0mmax_pool2d\u001b[0m\u001b[0;34m(\u001b[0m\u001b[0minput\u001b[0m\u001b[0;34m,\u001b[0m \u001b[0mkernel_size\u001b[0m\u001b[0;34m,\u001b[0m \u001b[0mstride\u001b[0m\u001b[0;34m,\u001b[0m \u001b[0mpadding\u001b[0m\u001b[0;34m,\u001b[0m \u001b[0mdilation\u001b[0m\u001b[0;34m,\u001b[0m \u001b[0mceil_mode\u001b[0m\u001b[0;34m)\u001b[0m\u001b[0;34m\u001b[0m\u001b[0;34m\u001b[0m\u001b[0m\n\u001b[0m\u001b[1;32m    828\u001b[0m \u001b[0;34m\u001b[0m\u001b[0m\n\u001b[1;32m    829\u001b[0m \u001b[0;34m\u001b[0m\u001b[0m\n",
            "\u001b[0;31mKeyboardInterrupt\u001b[0m: "
          ]
        }
      ]
    },
    {
      "cell_type": "code",
      "source": [
        "from google.colab import drive\n",
        "drive.mount('/content/drive')"
      ],
      "metadata": {
        "id": "Vuq1P7ud8jgm"
      },
      "execution_count": null,
      "outputs": []
    },
    {
      "cell_type": "markdown",
      "source": [
        "## plot the data\n"
      ],
      "metadata": {
        "id": "u99e_RA7s67D"
      }
    },
    {
      "cell_type": "code",
      "source": [
        "plt.figure(figsize = (13,9))\n",
        "plt.plot(range(train_epochs), cnn_train_accuracy_list, \"r\", label = \"trained\")\n",
        "plt.plot(range(train_epochs), cnn_test_accuracy_list, \"b\", label = \"validated\")\n",
        "plt.xlabel(\"Epoch\")\n",
        "plt.xlim(0, train_epochs - 1)\n",
        "plt.title(\"CNN - 2 hidden layers model\")\n",
        "plt.grid(True)\n",
        "plt.legend()\n",
        "plt.show()"
      ],
      "metadata": {
        "id": "VZrjRNJ3s9ZJ"
      },
      "execution_count": null,
      "outputs": []
    },
    {
      "cell_type": "markdown",
      "source": [
        "## Save the result in CSV file\n"
      ],
      "metadata": {
        "id": "bNFwEF7btMz0"
      }
    },
    {
      "cell_type": "code",
      "source": [
        "df = pd.DataFrame.from_records(cnn_records).to_csv(\"cnn_records\")"
      ],
      "metadata": {
        "id": "WrugOrFltWxH"
      },
      "execution_count": null,
      "outputs": []
    }
  ]
}